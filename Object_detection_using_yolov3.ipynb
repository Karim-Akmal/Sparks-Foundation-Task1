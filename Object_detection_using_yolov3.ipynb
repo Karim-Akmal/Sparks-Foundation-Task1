{
 "cells": [
  {
   "cell_type": "code",
   "execution_count": null,
   "metadata": {
    "id": "peIwFWrR8NOm"
   },
   "outputs": [],
   "source": []
  },
  {
   "cell_type": "code",
   "execution_count": null,
   "metadata": {
    "id": "C6XLRWCzDnei"
   },
   "outputs": [],
   "source": []
  },
  {
   "cell_type": "code",
   "execution_count": null,
   "metadata": {
    "id": "y3LRnYHFDnh4"
   },
   "outputs": [],
   "source": []
  },
  {
   "cell_type": "code",
   "execution_count": 1,
   "metadata": {
    "id": "sE9GF6X2Dnle"
   },
   "outputs": [],
   "source": [
    "import cv2\n",
    "import matplotlib.pyplot as plt"
   ]
  },
  {
   "cell_type": "code",
   "execution_count": 2,
   "metadata": {
    "id": "s6kdVBU9Dpst"
   },
   "outputs": [],
   "source": [
    "config_file = './yolov3-tiny.cfg'\n",
    "trained_model = './yolov3-tiny.weights'"
   ]
  },
  {
   "cell_type": "code",
   "execution_count": 3,
   "metadata": {
    "id": "htGoyFk5EAfB"
   },
   "outputs": [],
   "source": [
    "model = cv2.dnn.readNet(trained_model,config_file)"
   ]
  },
  {
   "cell_type": "code",
   "execution_count": 4,
   "metadata": {
    "id": "fSmOL2h6EFqV"
   },
   "outputs": [],
   "source": [
    "classLabels = []\n",
    "with open(\"./coco.names\", 'rt') as f:\n",
    "    classLabels = f.read().splitlines()"
   ]
  },
  {
   "cell_type": "code",
   "execution_count": 5,
   "metadata": {
    "colab": {
     "base_uri": "https://localhost:8080/"
    },
    "id": "IuaWbIj_JEWd",
    "outputId": "a64a8c15-14b8-44a6-a611-41b5ab5d0d61"
   },
   "outputs": [
    {
     "data": {
      "text/plain": [
       "['person',\n",
       " 'bicycle',\n",
       " 'car',\n",
       " 'motorbike',\n",
       " 'aeroplane',\n",
       " 'bus',\n",
       " 'train',\n",
       " 'truck',\n",
       " 'boat',\n",
       " 'traffic light',\n",
       " 'fire hydrant',\n",
       " 'stop sign',\n",
       " 'parking meter',\n",
       " 'bench',\n",
       " 'bird',\n",
       " 'cat',\n",
       " 'dog',\n",
       " 'horse',\n",
       " 'sheep',\n",
       " 'cow',\n",
       " 'elephant',\n",
       " 'bear',\n",
       " 'zebra',\n",
       " 'giraffe',\n",
       " 'backpack',\n",
       " 'umbrella',\n",
       " 'handbag',\n",
       " 'tie',\n",
       " 'suitcase',\n",
       " 'frisbee',\n",
       " 'skis',\n",
       " 'snowboard',\n",
       " 'sports ball',\n",
       " 'kite',\n",
       " 'baseball bat',\n",
       " 'baseball glove',\n",
       " 'skateboard',\n",
       " 'surfboard',\n",
       " 'tennis racket',\n",
       " 'bottle',\n",
       " 'wine glass',\n",
       " 'cup',\n",
       " 'fork',\n",
       " 'knife',\n",
       " 'spoon',\n",
       " 'bowl',\n",
       " 'banana',\n",
       " 'apple',\n",
       " 'sandwich',\n",
       " 'orange',\n",
       " 'broccoli',\n",
       " 'carrot',\n",
       " 'hot dog',\n",
       " 'pizza',\n",
       " 'donut',\n",
       " 'cake',\n",
       " 'chair',\n",
       " 'sofa',\n",
       " 'pottedplant',\n",
       " 'bed',\n",
       " 'diningtable',\n",
       " 'toilet',\n",
       " 'tvmonitor',\n",
       " 'laptop',\n",
       " 'mouse',\n",
       " 'remote',\n",
       " 'keyboard',\n",
       " 'cell phone',\n",
       " 'microwave',\n",
       " 'oven',\n",
       " 'toaster',\n",
       " 'sink',\n",
       " 'refrigerator',\n",
       " 'book',\n",
       " 'clock',\n",
       " 'vase',\n",
       " 'scissors',\n",
       " 'teddy bear',\n",
       " 'hair drier',\n",
       " 'toothbrush']"
      ]
     },
     "execution_count": 5,
     "metadata": {},
     "output_type": "execute_result"
    }
   ],
   "source": [
    "classLabels"
   ]
  },
  {
   "cell_type": "code",
   "execution_count": 6,
   "metadata": {
    "colab": {
     "base_uri": "https://localhost:8080/"
    },
    "id": "P6F-VStEJIY6",
    "outputId": "6995b293-f9ec-46b6-9d03-7da6361e4eef"
   },
   "outputs": [
    {
     "data": {
      "text/plain": [
       "80"
      ]
     },
     "execution_count": 6,
     "metadata": {},
     "output_type": "execute_result"
    }
   ],
   "source": [
    "len(classLabels)"
   ]
  },
  {
   "cell_type": "code",
   "execution_count": 7,
   "metadata": {
    "id": "RFtrl3TqJMJf"
   },
   "outputs": [],
   "source": [
    "image=cv2.imread(\"./Image1.jpeg\")\n",
    "height=image.shape[0]\n",
    "width=image.shape[1]"
   ]
  },
  {
   "cell_type": "code",
   "execution_count": 8,
   "metadata": {
    "id": "xVevWdYTJQMA"
   },
   "outputs": [],
   "source": [
    "blob=cv2.dnn.blobFromImage(image,1/255,(320,320),(0,0,0),swapRB=True,crop=False)"
   ]
  },
  {
   "cell_type": "code",
   "execution_count": 9,
   "metadata": {
    "id": "GqOr9IezQXwd"
   },
   "outputs": [],
   "source": [
    "model.setInput(blob)\n",
    "output_layer_names=model.getUnconnectedOutLayersNames()\n",
    "outputlayer=model.forward(output_layer_names)"
   ]
  },
  {
   "cell_type": "code",
   "execution_count": 10,
   "metadata": {
    "id": "bGFMs3tEQwnA"
   },
   "outputs": [],
   "source": [
    "import numpy as np\n",
    "boxes=[]\n",
    "confidences=[]\n",
    "class_ids=[]\n",
    "for output in outputlayer:\n",
    "    for detection in output:\n",
    "        score=detection[5:]\n",
    "        classid=np.argmax(score)\n",
    "        confidence=score[classid]\n",
    "        if confidence>0.4:\n",
    "            cent_x=int(detection[0]*width)\n",
    "            cent_y=int(detection[1]*height)\n",
    "            w=int(detection[2]*width)\n",
    "            h=int(detection[3]*height)\n",
    "            x=int(cent_x-w/2)\n",
    "            y=int(cent_y-h/2)\n",
    "            boxes.append([x,y,w,h])\n",
    "            confidences.append(float(confidence))\n",
    "            class_ids.append(classid)"
   ]
  },
  {
   "cell_type": "code",
   "execution_count": 11,
   "metadata": {
    "colab": {
     "base_uri": "https://localhost:8080/"
    },
    "id": "062A2zFDRBzQ",
    "outputId": "04e7993e-1cf2-4acb-8dea-0a04e963f86a"
   },
   "outputs": [
    {
     "data": {
      "text/plain": [
       "6"
      ]
     },
     "execution_count": 11,
     "metadata": {},
     "output_type": "execute_result"
    }
   ],
   "source": [
    "len(boxes)\n"
   ]
  },
  {
   "cell_type": "code",
   "execution_count": 12,
   "metadata": {
    "colab": {
     "base_uri": "https://localhost:8080/"
    },
    "id": "arYQZ2CWb3xR",
    "outputId": "ca26f65d-ab3d-41c6-c8b7-d3427ddc2f39"
   },
   "outputs": [
    {
     "name": "stdout",
     "output_type": "stream",
     "text": [
      "[[3]\n",
      " [1]\n",
      " [5]\n",
      " [2]\n",
      " [0]\n",
      " [4]]\n"
     ]
    }
   ],
   "source": [
    "indexe=cv2.dnn.NMSBoxes(boxes,confidences,0.4,0.5)\n",
    "font=cv2.FONT_HERSHEY_PLAIN\n",
    "colors=np.random.uniform(0,255,size=(len(boxes),3))\n",
    "print(indexe)"
   ]
  },
  {
   "cell_type": "code",
   "execution_count": 13,
   "metadata": {
    "id": "dST8Zj0icmDy"
   },
   "outputs": [],
   "source": [
    "for i in indexe.flatten():\n",
    "    x,y,w,h=boxes[i]\n",
    "    label=str(classLabels[class_ids[i]])\n",
    "    confi=str(round(confidences[i],2))\n",
    "    color=colors[i]\n",
    "    cv2.rectangle(image,(x,y),(x+w,y+h),color,5)\n",
    "    cv2.putText(image,label+\" \"+confi,(x,y),font,2,(255,255,255),3)"
   ]
  },
  {
   "cell_type": "code",
   "execution_count": 14,
   "metadata": {
    "colab": {
     "base_uri": "https://localhost:8080/",
     "height": 287
    },
    "id": "wjpAYP9cdCXZ",
    "outputId": "dc197419-edcc-4ceb-8252-597ee5cdd556"
   },
   "outputs": [
    {
     "data": {
      "text/plain": [
       "-1"
      ]
     },
     "execution_count": 14,
     "metadata": {},
     "output_type": "execute_result"
    }
   ],
   "source": [
    "cv2.imshow(\"Image detection\",image)\n",
    "cv2.waitKey(2)"
   ]
  },
  {
   "cell_type": "code",
   "execution_count": 15,
   "metadata": {
    "colab": {
     "base_uri": "https://localhost:8080/",
     "height": 1000
    },
    "id": "EaLExZ67-jn6",
    "outputId": "36b5d758-3794-4f97-c88c-ced895768df7"
   },
   "outputs": [],
   "source": [
    "video=cv2.VideoCapture(\"./4K Road traffic video for object detection and tracking.mp4\")\n",
    "while True:\n",
    "    _,image=video.read()\n",
    "    height=image.shape[0]\n",
    "    width=image.shape[1]\n",
    "    blob=cv2.dnn.blobFromImage(image,1/255,(320,320),(0,0,0),swapRB=True,crop=False)\n",
    "    model.setInput(blob)\n",
    "    output_layer_names=model.getUnconnectedOutLayersNames()\n",
    "    outputlayer=model.forward(output_layer_names)\n",
    "    boxes=[]\n",
    "    confidences=[]\n",
    "    class_ids=[]\n",
    "    for output in outputlayer:\n",
    "        for detection in output:\n",
    "            score=detection[5:]\n",
    "            classid=np.argmax(score)\n",
    "            confidence=score[classid]\n",
    "            if confidence>0.1:\n",
    "                cent_x=int(detection[0]*width)\n",
    "                cent_y=int(detection[1]*height)\n",
    "                w=int(detection[2]*width)\n",
    "                h=int(detection[3]*height)\n",
    "                x=int(cent_x-w/2)\n",
    "                y=int(cent_y-h/2)\n",
    "                boxes.append([x,y,w,h])\n",
    "                confidences.append(float(confidence))\n",
    "                class_ids.append(classid)\n",
    "    indexe=cv2.dnn.NMSBoxes(boxes,confidences,0.1,0.1)\n",
    "    font=cv2.FONT_HERSHEY_PLAIN\n",
    "    colors=np.random.uniform(0,255,size=(len(boxes),3))\n",
    "    if(len(indexe)>0):\n",
    "        for i in indexe.flatten():\n",
    "            x,y,w,h=boxes[i]\n",
    "            label=str(classLabels[class_ids[i]])\n",
    "            confi=str(round(confidences[i],2))\n",
    "            color=colors[i] \n",
    "            cv2.rectangle(image,(x,y),(x+w,y+h),color,5)\n",
    "            cv2.putText(image,label+\" \"+confi,(x,y),font,2,(255,255,255),3)\n",
    "    cv2.imshow(\"Object Detection\",image)\n",
    "    if cv2.waitKey(2) & 0xFF == ord(' '):\n",
    "        break\n",
    "\n",
    "video.release()\n",
    "cv2.destroyAllWindows()"
   ]
  },
  {
   "cell_type": "code",
   "execution_count": null,
   "metadata": {
    "id": "a8SOnhMl_HvN"
   },
   "outputs": [],
   "source": []
  }
 ],
 "metadata": {
  "colab": {
   "collapsed_sections": [],
   "name": "Object_detection_using_yolov3.ipynb",
   "provenance": []
  },
  "kernelspec": {
   "display_name": "Python 3",
   "language": "python",
   "name": "python3"
  },
  "language_info": {
   "codemirror_mode": {
    "name": "ipython",
    "version": 3
   },
   "file_extension": ".py",
   "mimetype": "text/x-python",
   "name": "python",
   "nbconvert_exporter": "python",
   "pygments_lexer": "ipython3",
   "version": "3.8.8"
  }
 },
 "nbformat": 4,
 "nbformat_minor": 1
}
